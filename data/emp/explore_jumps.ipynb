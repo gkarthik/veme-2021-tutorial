{
 "cells": [
  {
   "cell_type": "code",
   "execution_count": 1,
   "metadata": {},
   "outputs": [],
   "source": [
    "import pandas as pd\n",
    "import matplotlib.pyplot as plt"
   ]
  },
  {
   "cell_type": "code",
   "execution_count": 2,
   "metadata": {},
   "outputs": [
    {
     "data": {
      "text/html": [
       "<div>\n",
       "<style scoped>\n",
       "    .dataframe tbody tr th:only-of-type {\n",
       "        vertical-align: middle;\n",
       "    }\n",
       "\n",
       "    .dataframe tbody tr th {\n",
       "        vertical-align: top;\n",
       "    }\n",
       "\n",
       "    .dataframe thead th {\n",
       "        text-align: right;\n",
       "    }\n",
       "</style>\n",
       "<table border=\"1\" class=\"dataframe\">\n",
       "  <thead>\n",
       "    <tr style=\"text-align: right;\">\n",
       "      <th></th>\n",
       "      <th>state</th>\n",
       "      <th>from</th>\n",
       "      <th>to</th>\n",
       "      <th>time</th>\n",
       "    </tr>\n",
       "  </thead>\n",
       "  <tbody>\n",
       "    <tr>\n",
       "      <th>0</th>\n",
       "      <td>6000000</td>\n",
       "      <td>California</td>\n",
       "      <td>Washington</td>\n",
       "      <td>9.411268</td>\n",
       "    </tr>\n",
       "    <tr>\n",
       "      <th>1</th>\n",
       "      <td>6000000</td>\n",
       "      <td>Texas</td>\n",
       "      <td>California</td>\n",
       "      <td>3.507698</td>\n",
       "    </tr>\n",
       "    <tr>\n",
       "      <th>2</th>\n",
       "      <td>6000000</td>\n",
       "      <td>NewJersey</td>\n",
       "      <td>Virginia</td>\n",
       "      <td>7.758510</td>\n",
       "    </tr>\n",
       "    <tr>\n",
       "      <th>3</th>\n",
       "      <td>6000000</td>\n",
       "      <td>Texas</td>\n",
       "      <td>Virginia</td>\n",
       "      <td>5.236419</td>\n",
       "    </tr>\n",
       "    <tr>\n",
       "      <th>4</th>\n",
       "      <td>6000000</td>\n",
       "      <td>California</td>\n",
       "      <td>Texas</td>\n",
       "      <td>3.109071</td>\n",
       "    </tr>\n",
       "  </tbody>\n",
       "</table>\n",
       "</div>"
      ],
      "text/plain": [
       "     state        from          to      time\n",
       "0  6000000  California  Washington  9.411268\n",
       "1  6000000       Texas  California  3.507698\n",
       "2  6000000   NewJersey    Virginia  7.758510\n",
       "3  6000000       Texas    Virginia  5.236419\n",
       "4  6000000  California       Texas  3.109071"
      ]
     },
     "execution_count": 2,
     "metadata": {},
     "output_type": "execute_result"
    }
   ],
   "source": [
    "# Read in jump history\n",
    "df = pd.read_csv(\"./batRABV.jumpHistory_removeburnin.log\", sep=\"\\t\")\n",
    "df.head()"
   ]
  },
  {
   "cell_type": "code",
   "execution_count": 3,
   "metadata": {},
   "outputs": [],
   "source": [
    "most_recent_sampling_time = 2005.5 # Obtained from metadata"
   ]
  },
  {
   "cell_type": "code",
   "execution_count": 4,
   "metadata": {},
   "outputs": [
    {
     "data": {
      "text/html": [
       "<div>\n",
       "<style scoped>\n",
       "    .dataframe tbody tr th:only-of-type {\n",
       "        vertical-align: middle;\n",
       "    }\n",
       "\n",
       "    .dataframe tbody tr th {\n",
       "        vertical-align: top;\n",
       "    }\n",
       "\n",
       "    .dataframe thead th {\n",
       "        text-align: right;\n",
       "    }\n",
       "</style>\n",
       "<table border=\"1\" class=\"dataframe\">\n",
       "  <thead>\n",
       "    <tr style=\"text-align: right;\">\n",
       "      <th></th>\n",
       "      <th>state</th>\n",
       "      <th>from</th>\n",
       "      <th>to</th>\n",
       "      <th>time</th>\n",
       "    </tr>\n",
       "  </thead>\n",
       "  <tbody>\n",
       "    <tr>\n",
       "      <th>0</th>\n",
       "      <td>6000000</td>\n",
       "      <td>California</td>\n",
       "      <td>Washington</td>\n",
       "      <td>1996.088732</td>\n",
       "    </tr>\n",
       "    <tr>\n",
       "      <th>1</th>\n",
       "      <td>6000000</td>\n",
       "      <td>Texas</td>\n",
       "      <td>California</td>\n",
       "      <td>2001.992302</td>\n",
       "    </tr>\n",
       "    <tr>\n",
       "      <th>2</th>\n",
       "      <td>6000000</td>\n",
       "      <td>NewJersey</td>\n",
       "      <td>Virginia</td>\n",
       "      <td>1997.741490</td>\n",
       "    </tr>\n",
       "    <tr>\n",
       "      <th>3</th>\n",
       "      <td>6000000</td>\n",
       "      <td>Texas</td>\n",
       "      <td>Virginia</td>\n",
       "      <td>2000.263581</td>\n",
       "    </tr>\n",
       "    <tr>\n",
       "      <th>4</th>\n",
       "      <td>6000000</td>\n",
       "      <td>California</td>\n",
       "      <td>Texas</td>\n",
       "      <td>2002.390929</td>\n",
       "    </tr>\n",
       "  </tbody>\n",
       "</table>\n",
       "</div>"
      ],
      "text/plain": [
       "     state        from          to         time\n",
       "0  6000000  California  Washington  1996.088732\n",
       "1  6000000       Texas  California  2001.992302\n",
       "2  6000000   NewJersey    Virginia  1997.741490\n",
       "3  6000000       Texas    Virginia  2000.263581\n",
       "4  6000000  California       Texas  2002.390929"
      ]
     },
     "execution_count": 4,
     "metadata": {},
     "output_type": "execute_result"
    }
   ],
   "source": [
    "# Convert node heights to time\n",
    "df[\"time\"] = most_recent_sampling_time - df[\"time\"]\n",
    "df.head()"
   ]
  },
  {
   "cell_type": "code",
   "execution_count": 5,
   "metadata": {},
   "outputs": [],
   "source": [
    "# Get number of jumps between California and Washington\n",
    "number_of_jumps = df[(df[\"from\"] == \"California\") & (df[\"to\"] == \"Washington\")].groupby('state').size()"
   ]
  },
  {
   "cell_type": "code",
   "execution_count": 6,
   "metadata": {},
   "outputs": [
    {
     "data": {
      "image/png": "[encoded data removed]",
      "text/plain": [
       "<Figure size 720x540 with 1 Axes>"
      ]
     },
     "metadata": {
      "needs_background": "light"
     },
     "output_type": "display_data"
    }
   ],
   "source": [
    "# Plot a histogram\n",
    "f,ax = plt.subplots(figsize=(10, 7.5))\n",
    "ax.hist(number_of_jumps, bins = 50)\n",
    "ax.set_xticks(range(16))\n",
    "plt.show()"
   ]
  },
  {
   "cell_type": "code",
   "execution_count": 7,
   "metadata": {},
   "outputs": [
    {
     "data": {
      "text/plain": [
       "8.0"
      ]
     },
     "execution_count": 7,
     "metadata": {},
     "output_type": "execute_result"
    }
   ],
   "source": [
    "# Median number of jumps between California and Washington\n",
    "number_of_jumps.median()"
   ]
  },
  {
   "cell_type": "code",
   "execution_count": 8,
   "metadata": {},
   "outputs": [
    {
     "data": {
      "image/png": "[encoded data removed]",
      "text/plain": [
       "<Figure size 720x540 with 1 Axes>"
      ]
     },
     "metadata": {
      "needs_background": "light"
     },
     "output_type": "display_data"
    }
   ],
   "source": [
    "# What is the 95% HPD?\n",
    "number_of_jumps_95_hpd = number_of_jumps[(number_of_jumps >= number_of_jumps.quantile(0.025)) & (number_of_jumps <= number_of_jumps.quantile(0.975))]\n",
    "f,ax = plt.subplots(figsize=(10, 7.5))\n",
    "ax.hist(number_of_jumps_95_hpd, bins = 50)\n",
    "ax.set_xticks(range(16))\n",
    "plt.show()"
   ]
  },
  {
   "cell_type": "code",
   "execution_count": 9,
   "metadata": {},
   "outputs": [
    {
     "name": "stdout",
     "output_type": "stream",
     "text": [
      "8.0 (95% HPD: [6.0, 12.0])\n"
     ]
    }
   ],
   "source": [
    "# Median number of jumps from California to Washington = 8 (95% HPD: [6, 12])\n",
    "print(\"{} (95% HPD: [{}, {}])\".format(\n",
    "    number_of_jumps_95_hpd.median(), \n",
    "    number_of_jumps_95_hpd.quantile(0.025), \n",
    "    number_of_jumps_95_hpd.quantile(0.975)\n",
    "))"
   ]
  },
  {
   "cell_type": "code",
   "execution_count": 10,
   "metadata": {},
   "outputs": [],
   "source": [
    "# What is the first jump into Washington?\n",
    "first_jump = df[(df[\"to\"] == \"Washington\")].sort_values(\"time\").groupby('state').nth(0)"
   ]
  },
  {
   "cell_type": "code",
   "execution_count": 11,
   "metadata": {},
   "outputs": [
    {
     "data": {
      "text/plain": [
       "<AxesSubplot:>"
      ]
     },
     "execution_count": 11,
     "metadata": {},
     "output_type": "execute_result"
    },
    {
     "data": {
      "image/png": "[encoded data removed]",
      "text/plain": [
       "<Figure size 432x288 with 1 Axes>"
      ]
     },
     "metadata": {
      "needs_background": "light"
     },
     "output_type": "display_data"
    }
   ],
   "source": [
    "first_jump[\"from\"].value_counts().plot(kind=\"bar\")"
   ]
  },
  {
   "cell_type": "code",
   "execution_count": 12,
   "metadata": {},
   "outputs": [
    {
     "data": {
      "text/plain": [
       "1926.717138367988"
      ]
     },
     "execution_count": 12,
     "metadata": {},
     "output_type": "execute_result"
    },
    {
     "data": {
      "image/png": "[encoded data removed]",
      "text/plain": [
       "<Figure size 432x288 with 1 Axes>"
      ]
     },
     "metadata": {
      "needs_background": "light"
     },
     "output_type": "display_data"
    }
   ],
   "source": [
    "# So most jumps are coming from California. What is the time? \n",
    "first_jump[first_jump[\"from\"] == \"California\"][\"time\"].plot.hist()\n",
    "first_jump[first_jump[\"from\"] == \"California\"][\"time\"].median()"
   ]
  },
  {
   "cell_type": "code",
   "execution_count": 13,
   "metadata": {},
   "outputs": [],
   "source": [
    "# Function to convert years to date format\n",
    "# Gist at https://gist.github.com/gkarthik/2852f66dc335d8533ff174614d03fca5\n",
    "from datetime import datetime ,timedelta\n",
    "import sys\n",
    "\n",
    "def decimal_to_date(given_year):\n",
    "    base = datetime(int(given_year),1,1)\n",
    "    year_rem = given_year - int(given_year)\n",
    "\n",
    "    calc_date = (base + timedelta(seconds = (base.replace(year = base.year+1) - base).total_seconds() * year_rem ))\n",
    "    print(calc_date.strftime(\"%d %b %Y\"))"
   ]
  },
  {
   "cell_type": "code",
   "execution_count": 14,
   "metadata": {},
   "outputs": [
    {
     "name": "stdout",
     "output_type": "stream",
     "text": [
      "19 Sep 1926\n"
     ]
    }
   ],
   "source": [
    "decimal_to_date(first_jump[first_jump[\"from\"] == \"California\"][\"time\"].median())"
   ]
  },
  {
   "cell_type": "code",
   "execution_count": 15,
   "metadata": {},
   "outputs": [
    {
     "data": {
      "text/plain": [
       "<AxesSubplot:ylabel='Frequency'>"
      ]
     },
     "execution_count": 15,
     "metadata": {},
     "output_type": "execute_result"
    },
    {
     "data": {
      "image/png": "[encoded data removed]",
      "text/plain": [
       "<Figure size 432x288 with 1 Axes>"
      ]
     },
     "metadata": {
      "needs_background": "light"
     },
     "output_type": "display_data"
    }
   ],
   "source": [
    "# What is the distribution of jumps?\n",
    "all_jump_times = df[(df[\"from\"] == \"California\") & (df[\"to\"] == \"Washington\")]\n",
    "all_jump_times[\"time\"].plot.hist()"
   ]
  },
  {
   "cell_type": "code",
   "execution_count": 16,
   "metadata": {},
   "outputs": [
    {
     "data": {
      "text/html": [
       "<div>\n",
       "<style scoped>\n",
       "    .dataframe tbody tr th:only-of-type {\n",
       "        vertical-align: middle;\n",
       "    }\n",
       "\n",
       "    .dataframe tbody tr th {\n",
       "        vertical-align: top;\n",
       "    }\n",
       "\n",
       "    .dataframe thead th {\n",
       "        text-align: right;\n",
       "    }\n",
       "</style>\n",
       "<table border=\"1\" class=\"dataframe\">\n",
       "  <thead>\n",
       "    <tr style=\"text-align: right;\">\n",
       "      <th></th>\n",
       "      <th>state</th>\n",
       "      <th>from</th>\n",
       "      <th>to</th>\n",
       "      <th>time</th>\n",
       "    </tr>\n",
       "  </thead>\n",
       "  <tbody>\n",
       "    <tr>\n",
       "      <th>0</th>\n",
       "      <td>6000000</td>\n",
       "      <td>California</td>\n",
       "      <td>Washington</td>\n",
       "      <td>1996.088732</td>\n",
       "    </tr>\n",
       "    <tr>\n",
       "      <th>13</th>\n",
       "      <td>6000000</td>\n",
       "      <td>California</td>\n",
       "      <td>Washington</td>\n",
       "      <td>2004.781535</td>\n",
       "    </tr>\n",
       "    <tr>\n",
       "      <th>21</th>\n",
       "      <td>6000000</td>\n",
       "      <td>California</td>\n",
       "      <td>Washington</td>\n",
       "      <td>1972.924230</td>\n",
       "    </tr>\n",
       "    <tr>\n",
       "      <th>24</th>\n",
       "      <td>6000000</td>\n",
       "      <td>California</td>\n",
       "      <td>Washington</td>\n",
       "      <td>2003.152386</td>\n",
       "    </tr>\n",
       "    <tr>\n",
       "      <th>48</th>\n",
       "      <td>6000000</td>\n",
       "      <td>California</td>\n",
       "      <td>Washington</td>\n",
       "      <td>1971.794538</td>\n",
       "    </tr>\n",
       "    <tr>\n",
       "      <th>...</th>\n",
       "      <td>...</td>\n",
       "      <td>...</td>\n",
       "      <td>...</td>\n",
       "      <td>...</td>\n",
       "    </tr>\n",
       "    <tr>\n",
       "      <th>62931</th>\n",
       "      <td>10000000</td>\n",
       "      <td>California</td>\n",
       "      <td>Washington</td>\n",
       "      <td>1968.068406</td>\n",
       "    </tr>\n",
       "    <tr>\n",
       "      <th>62938</th>\n",
       "      <td>10000000</td>\n",
       "      <td>California</td>\n",
       "      <td>Washington</td>\n",
       "      <td>1947.271176</td>\n",
       "    </tr>\n",
       "    <tr>\n",
       "      <th>62940</th>\n",
       "      <td>10000000</td>\n",
       "      <td>California</td>\n",
       "      <td>Washington</td>\n",
       "      <td>1992.402482</td>\n",
       "    </tr>\n",
       "    <tr>\n",
       "      <th>62951</th>\n",
       "      <td>10000000</td>\n",
       "      <td>California</td>\n",
       "      <td>Washington</td>\n",
       "      <td>1994.069063</td>\n",
       "    </tr>\n",
       "    <tr>\n",
       "      <th>62987</th>\n",
       "      <td>10000000</td>\n",
       "      <td>California</td>\n",
       "      <td>Washington</td>\n",
       "      <td>1991.758743</td>\n",
       "    </tr>\n",
       "  </tbody>\n",
       "</table>\n",
       "<p>3470 rows × 4 columns</p>\n",
       "</div>"
      ],
      "text/plain": [
       "          state        from          to         time\n",
       "0       6000000  California  Washington  1996.088732\n",
       "13      6000000  California  Washington  2004.781535\n",
       "21      6000000  California  Washington  1972.924230\n",
       "24      6000000  California  Washington  2003.152386\n",
       "48      6000000  California  Washington  1971.794538\n",
       "...         ...         ...         ...          ...\n",
       "62931  10000000  California  Washington  1968.068406\n",
       "62938  10000000  California  Washington  1947.271176\n",
       "62940  10000000  California  Washington  1992.402482\n",
       "62951  10000000  California  Washington  1994.069063\n",
       "62987  10000000  California  Washington  1991.758743\n",
       "\n",
       "[3470 rows x 4 columns]"
      ]
     },
     "execution_count": 16,
     "metadata": {},
     "output_type": "execute_result"
    }
   ],
   "source": [
    "all_jump_times"
   ]
  },
  {
   "cell_type": "code",
   "execution_count": null,
   "metadata": {},
   "outputs": [],
   "source": []
  }
 ],
 "metadata": {
  "kernelspec": {
   "display_name": "Python 3",
   "language": "python",
   "name": "python3"
  },
  "language_info": {
   "codemirror_mode": {
    "name": "ipython",
    "version": 3
   },
   "file_extension": ".py",
   "mimetype": "text/x-python",
   "name": "python",
   "nbconvert_exporter": "python",
   "pygments_lexer": "ipython3",
   "version": "3.8.0"
  }
 },
 "nbformat": 4,
 "nbformat_minor": 4
}
